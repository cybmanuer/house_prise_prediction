{
  "cells": [
    {
      "cell_type": "code",
      "execution_count": null,
      "metadata": {
        "id": "qOkGVe4Mw7dB"
      },
      "outputs": [],
      "source": [
        "import pandas as pd\n",
        "import numpy as np"
      ]
    },
    {
      "cell_type": "code",
      "execution_count": null,
      "metadata": {
        "id": "b-vZmJczxO2Z"
      },
      "outputs": [],
      "source": [
        "data=pd.read_csv('Bengaluru_House_Data.csv') "
      ]
    },
    {
      "cell_type": "code",
      "execution_count": null,
      "metadata": {
        "colab": {
          "base_uri": "https://localhost:8080/",
          "height": 206
        },
        "id": "p_g4gALMx4kC",
        "outputId": "f1366c0c-8c35-4feb-cca9-baa23d260c6c"
      },
      "outputs": [],
      "source": [
        "data.head()"
      ]
    },
    {
      "cell_type": "code",
      "execution_count": null,
      "metadata": {
        "colab": {
          "base_uri": "https://localhost:8080/"
        },
        "id": "oc8wKYADx7JU",
        "outputId": "7d9b0e0a-2e3e-4333-a2c0-c6d28e954623"
      },
      "outputs": [],
      "source": [
        "data.shape"
      ]
    },
    {
      "cell_type": "code",
      "execution_count": null,
      "metadata": {
        "colab": {
          "base_uri": "https://localhost:8080/"
        },
        "id": "vwID5YQwyBF6",
        "outputId": "2f378a43-cb6b-48df-f954-cd7ed40d6bf2"
      },
      "outputs": [],
      "source": [
        "for column in data.columns:\n",
        "    print(data[column].value_counts())\n",
        "    print(\"*\"*20)"
      ]
    },
    {
      "cell_type": "code",
      "execution_count": null,
      "metadata": {
        "colab": {
          "base_uri": "https://localhost:8080/"
        },
        "id": "rk2ejGbDyl6B",
        "outputId": "d94c666c-8ce5-4aa8-f9aa-da5ecd1caad7"
      },
      "outputs": [],
      "source": [
        "data.isna().sum() # to check is null valu or missing values"
      ]
    },
    {
      "cell_type": "code",
      "execution_count": null,
      "metadata": {
        "id": "xC130rQLyw8E"
      },
      "outputs": [],
      "source": [
        "data.drop(columns=['area_type','availability','society','balcony'],inplace=True) # it is used to drop tha unwanted coloumns .."
      ]
    },
    {
      "cell_type": "code",
      "execution_count": null,
      "metadata": {
        "colab": {
          "base_uri": "https://localhost:8080/",
          "height": 300
        },
        "id": "ZeX7prt_0Yiw",
        "outputId": "cc7cfce9-3836-438e-9b02-a3765a882256"
      },
      "outputs": [],
      "source": [
        "data.describe() # to view avilanle data after altering"
      ]
    },
    {
      "cell_type": "code",
      "execution_count": null,
      "metadata": {
        "colab": {
          "base_uri": "https://localhost:8080/"
        },
        "id": "B1l8h-Nt0dFA",
        "outputId": "32c0749e-7f37-4902-84f3-29823009a3f4"
      },
      "outputs": [],
      "source": [
        "data.info()  #view the avilable coloumns"
      ]
    },
    {
      "cell_type": "code",
      "execution_count": null,
      "metadata": {
        "colab": {
          "base_uri": "https://localhost:8080/"
        },
        "id": "fbIEqqh21F2U",
        "outputId": "42514655-82cb-41fd-eb1f-b3584f1ebe5d"
      },
      "outputs": [],
      "source": [
        "data['location'].value_counts() #to count the number of location availble in datasets --to check whethe ther is any missing data or not\n"
      ]
    },
    {
      "cell_type": "code",
      "execution_count": null,
      "metadata": {
        "id": "QPFdfmPd1Y-C"
      },
      "outputs": [],
      "source": [
        "data['location']=data['location'].fillna('Sarjapur Road') #it fills the missing data with sarjapur data"
      ]
    },
    {
      "cell_type": "code",
      "execution_count": null,
      "metadata": {
        "colab": {
          "base_uri": "https://localhost:8080/"
        },
        "id": "o_JsDj68126g",
        "outputId": "6471458b-1726-44a5-9d84-823f0545d293"
      },
      "outputs": [],
      "source": [
        "data['size'].value_counts()"
      ]
    },
    {
      "cell_type": "code",
      "execution_count": null,
      "metadata": {
        "id": "ojAYYQIw2vT6"
      },
      "outputs": [],
      "source": [
        "data['size']=data['size'].fillna('2 BHK')"
      ]
    },
    {
      "cell_type": "code",
      "execution_count": null,
      "metadata": {
        "id": "ECmyPdEf26ml"
      },
      "outputs": [],
      "source": [
        "data['bath']=data['bath'].fillna(data['bath'].median()) # it fills the empty value of bath field by the median of the avalibla value"
      ]
    },
    {
      "cell_type": "code",
      "execution_count": null,
      "metadata": {
        "colab": {
          "base_uri": "https://localhost:8080/"
        },
        "id": "KN8MvXuw3JCP",
        "outputId": "b7e07a38-41fd-4954-e831-75ee0663d092"
      },
      "outputs": [],
      "source": [
        "data.info()"
      ]
    },
    {
      "cell_type": "code",
      "execution_count": null,
      "metadata": {
        "id": "os-HQcY63PKZ"
      },
      "outputs": [],
      "source": [
        "data['bhk']=data['size'].str.split().str.get(0).astype(int)"
      ]
    },
    {
      "cell_type": "code",
      "execution_count": null,
      "metadata": {
        "colab": {
          "base_uri": "https://localhost:8080/",
          "height": 112
        },
        "id": "qbV3RG9X43Gd",
        "outputId": "446b29e4-ee69-43ba-80e0-c35872b9be46"
      },
      "outputs": [],
      "source": [
        "data[data.bhk>20]"
      ]
    },
    {
      "cell_type": "code",
      "execution_count": null,
      "metadata": {
        "colab": {
          "base_uri": "https://localhost:8080/"
        },
        "id": "98NqpCbE5MFc",
        "outputId": "5da09a48-86b3-4423-b79c-dbeeac93e8a2"
      },
      "outputs": [],
      "source": [
        "data['total_sqft'].unique()"
      ]
    },
    {
      "cell_type": "code",
      "execution_count": null,
      "metadata": {
        "id": "H3Qqbxx65Zqm"
      },
      "outputs": [],
      "source": [
        "\n",
        "def convertRange(x):\n",
        "    temp = x.split('-')\n",
        "    if len(temp) == 2:\n",
        "         return(float(temp[0])+ float(temp[1]))/2\n",
        "    try:\n",
        "        return float(x)\n",
        "    except:\n",
        "        return None\n",
        "\n"
      ]
    },
    {
      "cell_type": "code",
      "execution_count": null,
      "metadata": {
        "id": "97T3nmNN6TOt"
      },
      "outputs": [],
      "source": [
        "data['total_sqft']=data['total_sqft'].apply(convertRange)"
      ]
    },
    {
      "cell_type": "code",
      "execution_count": null,
      "metadata": {
        "colab": {
          "base_uri": "https://localhost:8080/",
          "height": 206
        },
        "id": "olp1HyxN6frf",
        "outputId": "638a056a-9395-4bf1-8384-cf0d5c116b19"
      },
      "outputs": [],
      "source": [
        "data.head()"
      ]
    },
    {
      "cell_type": "markdown",
      "metadata": {
        "id": "9RiV9Oo-6pnl"
      },
      "source": [
        "Calculating price per square feet"
      ]
    },
    {
      "cell_type": "code",
      "execution_count": null,
      "metadata": {
        "id": "MZ3C-T4B6wha"
      },
      "outputs": [],
      "source": [
        "data['price_per_sqft']=data['price']*100000/data['total_sqft']"
      ]
    },
    {
      "cell_type": "code",
      "execution_count": null,
      "metadata": {
        "colab": {
          "base_uri": "https://localhost:8080/"
        },
        "id": "NIK5WLu27KeJ",
        "outputId": "edf12114-c5f4-4794-eabf-8a63fd13e32e"
      },
      "outputs": [],
      "source": [
        "data['price_per_sqft']"
      ]
    },
    {
      "cell_type": "code",
      "execution_count": null,
      "metadata": {
        "colab": {
          "background_save": true,
          "base_uri": "https://localhost:8080/",
          "height": 300
        },
        "id": "DPy_3hitGIK5",
        "outputId": "8f990567-746e-4fd6-ff51-ee17cc8886e3"
      },
      "outputs": [],
      "source": [
        "data.describe()"
      ]
    },
    {
      "cell_type": "code",
      "execution_count": null,
      "metadata": {
        "colab": {
          "base_uri": "https://localhost:8080/"
        },
        "id": "a9V-eA-GGcwm",
        "outputId": "9df2282b-cdaf-43ac-d240-4fea944d3361"
      },
      "outputs": [],
      "source": [
        "data['location'].value_counts()"
      ]
    },
    {
      "cell_type": "code",
      "execution_count": null,
      "metadata": {
        "colab": {
          "background_save": true
        },
        "id": "fjTls9fRG-kY"
      },
      "outputs": [],
      "source": [
        "data['location']=data['location'].apply(lambda x: x.strip())\n",
        "location_count=data['location'].value_counts()"
      ]
    },
    {
      "cell_type": "code",
      "execution_count": null,
      "metadata": {
        "colab": {
          "base_uri": "https://localhost:8080/"
        },
        "id": "oqzpr-ydHXT-",
        "outputId": "ebf46dbc-e67d-4bf7-df7d-e666bddbbdb8"
      },
      "outputs": [],
      "source": [
        "location_count"
      ]
    },
    {
      "cell_type": "code",
      "execution_count": null,
      "metadata": {
        "colab": {
          "base_uri": "https://localhost:8080/"
        },
        "id": "QVPBfhhCHbrx",
        "outputId": "a986f483-257b-4554-fee3-ef5600c9494d"
      },
      "outputs": [],
      "source": [
        "location_count_less_10=location_count[location_count<=10]\n",
        "location_count_less_10"
      ]
    },
    {
      "cell_type": "code",
      "execution_count": null,
      "metadata": {
        "id": "fRMmYTIWHtyS"
      },
      "outputs": [],
      "source": [
        "data['location']=data['location'].apply(lambda x: 'other' if x in location_count_less_10 else x)"
      ]
    },
    {
      "cell_type": "code",
      "execution_count": null,
      "metadata": {
        "colab": {
          "base_uri": "https://localhost:8080/"
        },
        "id": "-8Or7iljEEIX",
        "outputId": "8ddb76c2-3e85-42ef-a94e-97edad3c4de0"
      },
      "outputs": [],
      "source": [
        "data['location'].value_counts()"
      ]
    },
    {
      "cell_type": "markdown",
      "metadata": {
        "id": "4Nz6vzm1IQ1-"
      },
      "source": [
        "outlier detection and removal"
      ]
    },
    {
      "cell_type": "code",
      "execution_count": null,
      "metadata": {
        "colab": {
          "base_uri": "https://localhost:8080/",
          "height": 300
        },
        "id": "Yx9pQKRLIbv1",
        "outputId": "db919e41-28a3-4f86-d9fe-02643b346f52"
      },
      "outputs": [],
      "source": [
        "data.describe()"
      ]
    },
    {
      "cell_type": "code",
      "execution_count": null,
      "metadata": {
        "colab": {
          "base_uri": "https://localhost:8080/"
        },
        "id": "xY48eEqprI9P",
        "outputId": "30eb0eca-d13c-4c74-9662-37facb422fbf"
      },
      "outputs": [],
      "source": [
        "(data['total_sqft']/data['bhk']).describe()"
      ]
    },
    {
      "cell_type": "code",
      "execution_count": null,
      "metadata": {
        "colab": {
          "base_uri": "https://localhost:8080/",
          "height": 300
        },
        "id": "rW-nzVrHteLE",
        "outputId": "3171d1d3-ca99-4411-dce2-801ad6b2aadd"
      },
      "outputs": [],
      "source": [
        "data=data[((data['total_sqft']/data['bhk'])>=300)]\n",
        "data.describe()"
      ]
    },
    {
      "cell_type": "code",
      "execution_count": null,
      "metadata": {
        "colab": {
          "base_uri": "https://localhost:8080/"
        },
        "id": "Y2LR_C_BubQf",
        "outputId": "a4b33dbc-4a48-4160-d7fa-38b91c0f36b0"
      },
      "outputs": [],
      "source": [
        "data.shape"
      ]
    },
    {
      "cell_type": "code",
      "execution_count": null,
      "metadata": {
        "colab": {
          "base_uri": "https://localhost:8080/"
        },
        "id": "OUh_h721uxkU",
        "outputId": "99919c05-1ee7-4cc6-b1fb-4d1b44e24276"
      },
      "outputs": [],
      "source": [
        "data.price_per_sqft.describe()"
      ]
    },
    {
      "cell_type": "code",
      "execution_count": null,
      "metadata": {
        "colab": {
          "base_uri": "https://localhost:8080/",
          "height": 300
        },
        "id": "Hgv_wbn3u-8B",
        "outputId": "3eb5c224-6fba-42c1-f678-69671329f8e6"
      },
      "outputs": [],
      "source": [
        "def remove_outliers_sqft(df):\n",
        "    df_output=pd.DataFrame()\n",
        "    for key,subdf in df.groupby('location'):\n",
        "        m=np.mean(subdf.price_per_sqft)\n",
        "        st=np.std(subdf.price_per_sqft)\n",
        "        gen_df=subdf[(subdf.price_per_sqft>(m-st))&(subdf.price_per_sqft<=(m+st))]\n",
        "        df_output=pd.concat([df_output,gen_df],ignore_index=True)\n",
        "    return df_output\n",
        "data=remove_outliers_sqft(data)\n",
        "data.describe()        "
      ]
    },
    {
      "cell_type": "code",
      "execution_count": null,
      "metadata": {
        "id": "GF95XBTWx3Q5"
      },
      "outputs": [],
      "source": [
        "def bhk_outlier_remover(df):\n",
        "    exclude_indices=np.array([])\n",
        "    for location,location_df in df.groupby('location'):\n",
        "        bhk_stats={}\n",
        "        for bhk,bhk_df in location_df.groupby('bhk'):\n",
        "            bhk_stats[bhk]={\n",
        "                'mean':np.mean(bhk_df.price_per_sqft),\n",
        "                'std':np.std(bhk_df.price_per_sqft),\n",
        "                'count':bhk_df.shape[0]\n",
        "            }\n",
        "        for bhk,bhk_df in location_df.groupby('bhk'):\n",
        "             stats=bhk_stats.get(bhk-1)\n",
        "             if stats and stats['count']>5:\n",
        "                 exclude_indices=np.append(exclude_indices,bhk_df[bhk_df.price_per_sqft<(stats['mean'])].index.values)\n",
        "    return df.drop(exclude_indices,axis='index')  \n",
        "          \n"
      ]
    },
    {
      "cell_type": "code",
      "execution_count": null,
      "metadata": {
        "id": "LQ6LndTz0GgC"
      },
      "outputs": [],
      "source": [
        "data=bhk_outlier_remover(data)"
      ]
    },
    {
      "cell_type": "code",
      "execution_count": null,
      "metadata": {
        "colab": {
          "base_uri": "https://localhost:8080/"
        },
        "id": "yTUTinBi2Yag",
        "outputId": "1d4bbae2-ee21-4f4f-d39b-763e0fea558c"
      },
      "outputs": [],
      "source": [
        "data.shape"
      ]
    },
    {
      "cell_type": "code",
      "execution_count": null,
      "metadata": {
        "colab": {
          "base_uri": "https://localhost:8080/",
          "height": 424
        },
        "id": "q8HollG420ve",
        "outputId": "0ae99ec8-19c1-4b35-8d42-b3e142145c7e"
      },
      "outputs": [],
      "source": [
        "data"
      ]
    },
    {
      "cell_type": "code",
      "execution_count": null,
      "metadata": {
        "id": "b9F8_lC03Mdc"
      },
      "outputs": [],
      "source": [
        "data.drop(columns=['size','price_per_sqft'],inplace=True)"
      ]
    },
    {
      "cell_type": "markdown",
      "metadata": {
        "id": "gwnIdEPf3ySr"
      },
      "source": [
        "Cleaned data"
      ]
    },
    {
      "cell_type": "code",
      "execution_count": null,
      "metadata": {
        "colab": {
          "base_uri": "https://localhost:8080/",
          "height": 206
        },
        "id": "T20RBZxL34x7",
        "outputId": "1e979d7b-a8d8-4b87-da4c-606b546734d9"
      },
      "outputs": [],
      "source": [
        "data.head()"
      ]
    },
    {
      "cell_type": "code",
      "execution_count": null,
      "metadata": {
        "id": "l4-Dg5pt4NNu"
      },
      "outputs": [],
      "source": [
        "data.to_csv(\"cleaned_data.csv\",index=False)"
      ]
    },
    {
      "cell_type": "code",
      "execution_count": null,
      "metadata": {
        "id": "cPdG5km34mWZ"
      },
      "outputs": [],
      "source": [
        "import pandas as pd\n",
        "data=pd.read_csv('cleaned_data.csv',index_col=0)\n",
        "X=data.drop(columns=['price'])\n",
        "y=data['price']\n",
        "X"
      ]
    },
    {
      "cell_type": "code",
      "execution_count": null,
      "metadata": {
        "id": "VLitwWae5S1-"
      },
      "outputs": [],
      "source": [
        "from sklearn.model_selection import train_test_split\n",
        "from sklearn.linear_model import LinearRegression,Lasso,Ridge\n",
        "from sklearn.preprocessing import OneHotEncoder,StandardScaler\n",
        "from sklearn.compose import make_column_transformer\n",
        "from sklearn.pipeline import make_pipeline\n",
        "from sklearn.metrics import r2_score"
      ]
    },
    {
      "cell_type": "code",
      "execution_count": null,
      "metadata": {
        "id": "OD8BDXqX6mbR"
      },
      "outputs": [],
      "source": [
        "X_train,X_test,y_train,y_test=train_test_split(X,y,test_size=0.2,random_state=0)"
      ]
    },
    {
      "cell_type": "code",
      "execution_count": null,
      "metadata": {
        "colab": {
          "base_uri": "https://localhost:8080/"
        },
        "id": "whQft_8x69c7",
        "outputId": "d48a004f-b6bc-4cc7-a86b-54b4c98ce0fb"
      },
      "outputs": [],
      "source": [
        "print(X_train.shape)\n",
        "print(X_test.shape)\n",
        "# X_train.drop(\"Unnamed: 0\",axis=1)\n",
        "# X_test.drop(\"Unnamed: 0\",axis=1)"
      ]
    },
    {
      "cell_type": "markdown",
      "metadata": {
        "id": "DWzBRRfR7YL6"
      },
      "source": [
        "Linear Regression\n"
      ]
    },
    {
      "cell_type": "code",
      "execution_count": null,
      "metadata": {
        "id": "ax3S1M6B7dgl"
      },
      "outputs": [],
      "source": [
        "column_trans=make_column_transformer((OneHotEncoder(sparse=False),['location']),remainder='passthrough')"
      ]
    },
    {
      "cell_type": "code",
      "execution_count": null,
      "metadata": {
        "id": "hBVXxoEn8Dr1"
      },
      "outputs": [],
      "source": [
        "scaler=StandardScaler()"
      ]
    },
    {
      "cell_type": "code",
      "execution_count": null,
      "metadata": {
        "id": "E7YwGI3p8Jnr"
      },
      "outputs": [],
      "source": [
        "lr=LinearRegression()\n"
      ]
    },
    {
      "cell_type": "code",
      "execution_count": null,
      "metadata": {
        "id": "QylChMTD8Rlm"
      },
      "outputs": [],
      "source": [
        "pipe=make_pipeline(column_trans,scaler,lr)"
      ]
    },
    {
      "cell_type": "code",
      "execution_count": null,
      "metadata": {
        "colab": {
          "base_uri": "https://localhost:8080/"
        },
        "id": "b0MxKc3b8bv1",
        "outputId": "1d130fc9-605c-4359-cf81-29b0d3dbab12"
      },
      "outputs": [],
      "source": [
        "pipe.fit(X_train,y_train)"
      ]
    },
    {
      "cell_type": "code",
      "execution_count": null,
      "metadata": {},
      "outputs": [],
      "source": []
    },
    {
      "cell_type": "code",
      "execution_count": null,
      "metadata": {
        "id": "e0Uo6NxK8k10"
      },
      "outputs": [],
      "source": [
        "y_pred_lr=pipe.predict(X_test)"
      ]
    },
    {
      "cell_type": "code",
      "execution_count": null,
      "metadata": {
        "colab": {
          "base_uri": "https://localhost:8080/"
        },
        "id": "nZSG4zq28vni",
        "outputId": "b44af6cc-d149-4b6a-d976-48f2cf1e2185"
      },
      "outputs": [],
      "source": [
        "r2_score(y_test,y_pred_lr)"
      ]
    },
    {
      "cell_type": "markdown",
      "metadata": {
        "id": "oUi_S2999NkP"
      },
      "source": [
        "LASSO"
      ]
    },
    {
      "cell_type": "code",
      "execution_count": null,
      "metadata": {
        "id": "B8U-4GqX9aNe"
      },
      "outputs": [],
      "source": [
        "lasso=Lasso()"
      ]
    },
    {
      "cell_type": "code",
      "execution_count": null,
      "metadata": {
        "id": "tN-QdAP29k0B"
      },
      "outputs": [],
      "source": [
        "pipe=make_pipeline(column_trans,scaler,lasso)"
      ]
    },
    {
      "cell_type": "code",
      "execution_count": null,
      "metadata": {
        "colab": {
          "base_uri": "https://localhost:8080/"
        },
        "id": "o4hicv4K9u3l",
        "outputId": "41e4651c-2b76-4695-b8f5-16867e2086fe"
      },
      "outputs": [],
      "source": [
        "pipe.fit(X_train,y_train)"
      ]
    },
    {
      "cell_type": "code",
      "execution_count": null,
      "metadata": {
        "colab": {
          "base_uri": "https://localhost:8080/"
        },
        "id": "z28xrT9i963y",
        "outputId": "084b3d76-b5d5-45fa-f45b-5a6ae72f5ec4"
      },
      "outputs": [],
      "source": [
        "y_pred_lasso=pipe.predict(X_test)\n",
        "r2_score(y_test,y_pred_lasso)"
      ]
    },
    {
      "cell_type": "markdown",
      "metadata": {
        "id": "knSDKrgw-aav"
      },
      "source": [
        "RIDGE"
      ]
    },
    {
      "cell_type": "code",
      "execution_count": null,
      "metadata": {
        "id": "JSogaKcM-XgO"
      },
      "outputs": [],
      "source": [
        "ridge = Ridge()"
      ]
    },
    {
      "cell_type": "code",
      "execution_count": null,
      "metadata": {
        "id": "Ej9U6KduxhjN"
      },
      "outputs": [],
      "source": [
        "pipe=make_pipeline(column_trans,scaler,ridge)"
      ]
    },
    {
      "cell_type": "code",
      "execution_count": null,
      "metadata": {
        "colab": {
          "base_uri": "https://localhost:8080/"
        },
        "id": "BlEUU6HQxx2S",
        "outputId": "159d5e1d-9934-46e2-cd33-3ec757f759fa"
      },
      "outputs": [],
      "source": [
        "pipe.fit(X_train,y_train)"
      ]
    },
    {
      "cell_type": "code",
      "execution_count": null,
      "metadata": {
        "colab": {
          "base_uri": "https://localhost:8080/"
        },
        "id": "LR4TFadox6jM",
        "outputId": "dde8f842-bd8c-4395-9315-d57ba64ce285"
      },
      "outputs": [],
      "source": [
        "y_pred_ridge=pipe.predict(X_test)\n",
        "r2_score(y_test,y_pred_ridge)"
      ]
    },
    {
      "cell_type": "code",
      "execution_count": null,
      "metadata": {
        "colab": {
          "base_uri": "https://localhost:8080/"
        },
        "id": "G5_s2koFyYIr",
        "outputId": "3bea54b8-aeb7-4ce5-d744-2123001c8e76"
      },
      "outputs": [],
      "source": [
        "print(\"No Regularization: \",r2_score(y_test, y_pred_lr))\n",
        "print(\"Lasso: \",r2_score(y_test,y_pred_lasso))\n",
        "print(\"Ridge: \",r2_score(y_test,y_pred_ridge))"
      ]
    },
    {
      "cell_type": "code",
      "execution_count": null,
      "metadata": {
        "id": "PUfJFg4E063I"
      },
      "outputs": [],
      "source": [
        "import pickle\n",
        "import joblib"
      ]
    },
    {
      "cell_type": "code",
      "execution_count": null,
      "metadata": {
        "id": "F704wp981wmf"
      },
      "outputs": [],
      "source": [
        "pickle.dump(pipe,open('RidgeModel.pkl','wb'))\n",
        "joblib.dump(pipe,\"JobLibRM.sav\")"
      ]
    }
  ],
  "metadata": {
    "colab": {
      "provenance": []
    },
    "kernelspec": {
      "display_name": "Python 3",
      "name": "python3"
    },
    "language_info": {
      "codemirror_mode": {
        "name": "ipython",
        "version": 3
      },
      "file_extension": ".py",
      "mimetype": "text/x-python",
      "name": "python",
      "nbconvert_exporter": "python",
      "pygments_lexer": "ipython3",
      "version": "3.8.0"
    }
  },
  "nbformat": 4,
  "nbformat_minor": 0
}
